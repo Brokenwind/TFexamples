{
 "cells": [
  {
   "cell_type": "markdown",
   "metadata": {},
   "source": [
    "\n",
    "# MNIST 数据集介绍\n",
    "\n",
    "大多数示例使用手写数字的MNIST数据集。该数据集包含60,000个用于培训的示例和10,000个用于测试的示例。这些图片已经过尺寸标准化，并以固定大小的图像（28x28像素），其值在0到1之间取值.为简单起见，每个图像都被展平并转换为784(28*28)的向量）。\n",
    "\n",
    "## 概览\n",
    "\n",
    "![MNIST Digits](http://neuralnetworksanddeeplearning.com/images/mnist_100_digits.png)\n",
    "\n",
    "## 使用方式\n",
    "在我们的示例中，我们使用TensorFlow [input_data.py](https://github.com/tensorflow/tensorflow/blob/r0.7/tensorflow/examples/tutorials/mnist/input_data.py)脚本来加载该数据集。它对于管理我们的数据非常有用，我们可以使用其进行下边的操作：\n",
    "\n",
    "- MNIST数据集下载\n",
    "\n",
    "- 加载所有的数据: \n",
    "\n",
    "\n"
   ]
  },
  {
   "cell_type": "code",
   "execution_count": 8,
   "metadata": {},
   "outputs": [
    {
     "name": "stdout",
     "output_type": "stream",
     "text": [
      "Extracting /tmp/data/train-images-idx3-ubyte.gz\n",
      "Extracting /tmp/data/train-labels-idx1-ubyte.gz\n",
      "Extracting /tmp/data/t10k-images-idx3-ubyte.gz\n",
      "Extracting /tmp/data/t10k-labels-idx1-ubyte.gz\n"
     ]
    }
   ],
   "source": [
    "# Import MNIST\n",
    "from tensorflow.examples.tutorials.mnist import input_data\n",
    "# 如果没有执行过下边的语句,会自动将数据集下载到指定的目录/tmp/data/中\n",
    "# 这里的数据存储位置视自己的情况而定\n",
    "mnist = input_data.read_data_sets(\"/tmp/data/\", one_hot=True)\n",
    "\n",
    "# Load data\n",
    "X_train = mnist.train.images\n",
    "Y_train = mnist.train.labels\n",
    "X_test = mnist.test.images\n",
    "Y_test = mnist.test.labels"
   ]
  },
  {
   "cell_type": "markdown",
   "metadata": {},
   "source": [
    "- `next_batch`函数，可以遍历整个数据集并仅返回所需的数据集样本部分（以节省内存并避免加载整个数据集）"
   ]
  },
  {
   "cell_type": "code",
   "execution_count": 9,
   "metadata": {},
   "outputs": [],
   "source": [
    "# Get the next 64 images array and labels\n",
    "batch_X, batch_Y = mnist.train.next_batch(64)"
   ]
  },
  {
   "cell_type": "code",
   "execution_count": 12,
   "metadata": {},
   "outputs": [
    {
     "name": "stdout",
     "output_type": "stream",
     "text": [
      "X shape: (64, 784)\n",
      "Y shape: (64, 10)\n"
     ]
    }
   ],
   "source": [
    "print(\"X shape:\",batch_X.shape)\n",
    "print(\"Y shape:\",batch_Y.shape)"
   ]
  }
 ],
 "metadata": {
  "kernelspec": {
   "display_name": "Python 3",
   "language": "python",
   "name": "python3"
  },
  "language_info": {
   "codemirror_mode": {
    "name": "ipython",
    "version": 3
   },
   "file_extension": ".py",
   "mimetype": "text/x-python",
   "name": "python",
   "nbconvert_exporter": "python",
   "pygments_lexer": "ipython3",
   "version": "3.6.5"
  }
 },
 "nbformat": 4,
 "nbformat_minor": 2
}
