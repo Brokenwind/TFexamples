{
 "cells": [
  {
   "cell_type": "markdown",
   "metadata": {},
   "source": [
    "# 线性回归\n",
    "\n",
    "使用TensorFlow库的线性回归学习算法示例。"
   ]
  },
  {
   "cell_type": "code",
   "execution_count": 66,
   "metadata": {},
   "outputs": [],
   "source": [
    "import tensorflow as tf\n",
    "import numpy as np\n",
    "import matplotlib.pyplot as plt\n",
    "rng = np.random"
   ]
  },
  {
   "cell_type": "code",
   "execution_count": 95,
   "metadata": {},
   "outputs": [],
   "source": [
    "#定义用的常量\n",
    "n_samples=100\n",
    "learning_rate=0.01\n",
    "training_epochs = 800\n",
    "display_step = 50"
   ]
  },
  {
   "cell_type": "code",
   "execution_count": 99,
   "metadata": {},
   "outputs": [
    {
     "data": {
      "image/png": "[encoded data removed]",
      "text/plain": [
       "<Figure size 432x288 with 1 Axes>"
      ]
     },
     "metadata": {
      "needs_background": "light"
     },
     "output_type": "display_data"
    }
   ],
   "source": [
    "# [-1,1]划分成n_samples等分\n",
    "X = np.linspace(-1, 1, n_samples)\n",
    "np.random.shuffle(X)\n",
    "# 加入一定的扰乱\n",
    "Y = 0.5 * X + 2 + np.random.normal(0, 0.05, (n_samples,))\n",
    "# 划分训练集和测试集\n",
    "X_train, Y_train = X[:70], Y[:70]\n",
    "X_test, Y_test = X[70:], Y[70:]\n",
    "plt.scatter(X_test, Y_test)\n",
    "plt.show()"
   ]
  },
  {
   "cell_type": "code",
   "execution_count": 100,
   "metadata": {},
   "outputs": [],
   "source": [
    "# 建立输入数据的placeholder\n",
    "X = tf.placeholder('float')\n",
    "Y = tf.placeholder('float')\n",
    "# 初始化参数\n",
    "W = tf.Variable(rng.randn(),name='weight')\n",
    "b = tf.Variable(rng.randn(),name='bias')\n",
    "# 建立模型\n",
    "pred = tf.add(tf.multiply(X,W),b)\n",
    "cost = tf.reduce_sum(tf.pow(Y-pred,2))/(2*n_samples)\n",
    "# 使用优化函数\n",
    "optimizer = tf.train.GradientDescentOptimizer(learning_rate).minimize(cost)\n",
    "# 初始化所有的变量\n",
    "init = tf.global_variables_initializer()"
   ]
  },
  {
   "cell_type": "code",
   "execution_count": 101,
   "metadata": {},
   "outputs": [
    {
     "name": "stdout",
     "output_type": "stream",
     "text": [
      "Epoch: 0050 cost= 0.276017785 W= -0.8596238 b= 1.5698638\n",
      "Epoch: 0100 cost= 0.203250915 W= -0.70985615 b= 1.68738\n",
      "Epoch: 0150 cost= 0.153050512 W= -0.57599556 b= 1.7716638\n",
      "Epoch: 0200 cost= 0.117061719 W= -0.4565621 b= 1.8323736\n",
      "Epoch: 0250 cost= 0.090494208 W= -0.350142 b= 1.8763282\n",
      "Epoch: 0300 cost= 0.070465140 W= -0.25541705 b= 1.908341\n",
      "Epoch: 0350 cost= 0.055144776 W= -0.17117262 b= 1.9318343\n",
      "Epoch: 0400 cost= 0.043312855 W= -0.09629877 b= 1.9492139\n",
      "Epoch: 0450 cost= 0.034116969 W= -0.029787272 b= 1.9621953\n",
      "Epoch: 0500 cost= 0.026940666 W= 0.029271306 b= 1.9719949\n",
      "Epoch: 0550 cost= 0.021325732 W= 0.08169518 b= 1.9794801\n",
      "Epoch: 0600 cost= 0.016925210 W= 0.12821758 b= 1.9852654\n",
      "Epoch: 0650 cost= 0.013472738 W= 0.16949444 b= 1.9898013\n",
      "Epoch: 0700 cost= 0.010762249 W= 0.2061123 b= 1.9933989\n",
      "Epoch: 0750 cost= 0.008633495 W= 0.23859054 b= 1.9962947\n",
      "Epoch: 0800 cost= 0.006961088 W= 0.26739606 b= 1.998653\n",
      "Training cost= 0.006961088 W= 0.26739606 b= 1.998653 \n",
      "\n"
     ]
    },
    {
     "data": {
      "image/png": "[encoded data removed]",
      "text/plain": [
       "<Figure size 432x288 with 1 Axes>"
      ]
     },
     "metadata": {
      "needs_background": "light"
     },
     "output_type": "display_data"
    }
   ],
   "source": [
    "# 开启Session\n",
    "with tf.Session() as sess:\n",
    "    # 运行初始化\n",
    "    sess.run(init)\n",
    "    # 执行训练\n",
    "    for epoch in range(training_epochs):\n",
    "        # 每次使用一个样本训练\n",
    "        for (x, y) in zip(X_train, Y_train):\n",
    "            sess.run(optimizer,feed_dict={X:x,Y:y})\n",
    "        #每过display_step打印结果\n",
    "        if (epoch+1) % display_step == 0:\n",
    "            c = sess.run(cost, feed_dict={X: X_train, Y:Y_train})\n",
    "            print(\"Epoch:\", '%04d' % (epoch+1), \"cost=\", \"{:.9f}\".format(c), \\\n",
    "                \"W=\", sess.run(W), \"b=\", sess.run(b))\n",
    "    # 计算最后的结果\n",
    "    training_cost = sess.run(cost, feed_dict={X: X_train, Y: Y_train})\n",
    "    print (\"Training cost=\", training_cost, \"W=\", sess.run(W), \"b=\", sess.run(b), '\\n')\n",
    "    plt.scatter(X_test, Y_test)\n",
    "    plt.plot(X_test, sess.run(pred,feed_dict={X: X_test}))\n",
    "    plt.show()\n"
   ]
  },
  {
   "cell_type": "code",
   "execution_count": null,
   "metadata": {},
   "outputs": [],
   "source": []
  }
 ],
 "metadata": {
  "kernelspec": {
   "display_name": "Python 3",
   "language": "python",
   "name": "python3"
  },
  "language_info": {
   "codemirror_mode": {
    "name": "ipython",
    "version": 3
   },
   "file_extension": ".py",
   "mimetype": "text/x-python",
   "name": "python",
   "nbconvert_exporter": "python",
   "pygments_lexer": "ipython3",
   "version": "3.6.5"
  }
 },
 "nbformat": 4,
 "nbformat_minor": 2
}
